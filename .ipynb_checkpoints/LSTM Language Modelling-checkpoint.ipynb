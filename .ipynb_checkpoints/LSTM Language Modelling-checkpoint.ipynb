{
 "cells": [
  {
   "cell_type": "code",
   "execution_count": 2,
   "metadata": {},
   "outputs": [],
   "source": [
    "import numpy as np\n",
    "import io\n",
    "import string\n",
    "import re\n",
    "import tensorflowjs as tfjs \n",
    "import tensorflow as tf\n",
    "from tensorflow.keras.models import Sequential, load_model\n",
    "\n",
    "from tensorflow.keras.layers import LSTM, TimeDistributed, Softmax, Flatten, Dense"
   ]
  },
  {
   "cell_type": "code",
   "execution_count": 6,
   "metadata": {},
   "outputs": [],
   "source": [
    "##Load the corpus\n",
    "\n",
    "with io.open(\"sks.txt\", 'r', encoding=\"utf-8\") as file:\n",
    "    text = file.read()\n",
    "    "
   ]
  },
  {
   "cell_type": "code",
   "execution_count": null,
   "metadata": {},
   "outputs": [],
   "source": []
  },
  {
   "cell_type": "code",
   "execution_count": 7,
   "metadata": {},
   "outputs": [],
   "source": [
    "## Only using the first 200000 characters\n",
    "\n",
    "text = text[0:200000]\n"
   ]
  },
  {
   "cell_type": "code",
   "execution_count": 8,
   "metadata": {},
   "outputs": [],
   "source": [
    "##Clean the corpus by removing basic stop characters\n",
    "\n",
    "stop = '[&\\[\\]\\<\\>\"():;\\-,\\\\s+]'\n",
    "corpus_tokens = re.split(stop, text.lower())\n",
    "corpus_tokens = [c for c in corpus_tokens if len(c) > 0 ]\n",
    "clean_text = \" \".join(corpus_tokens)"
   ]
  },
  {
   "cell_type": "code",
   "execution_count": 9,
   "metadata": {},
   "outputs": [],
   "source": [
    "##Construct the alphabet\n",
    "\n",
    "alphabet = list(set([c for c in clean_text]))"
   ]
  },
  {
   "cell_type": "code",
   "execution_count": 10,
   "metadata": {},
   "outputs": [],
   "source": [
    "##Biuld dictionaries char -> index and index -> char \n",
    "\n",
    "dictionary = dict([(c, i) for i,c in enumerate(alphabet)])\n",
    "idx_to_char = dict([(i, c) for i,c in enumerate(alphabet)])\n"
   ]
  },
  {
   "cell_type": "code",
   "execution_count": 11,
   "metadata": {},
   "outputs": [],
   "source": [
    "dict_size = len(dictionary)\n",
    "size = len(clean_text)"
   ]
  },
  {
   "cell_type": "code",
   "execution_count": 12,
   "metadata": {},
   "outputs": [],
   "source": [
    "## Helper function to make one-hot vectors\n",
    "\n",
    "def charToOneHot(char, dictionary):\n",
    "    vect = np.zeros((len(dictionary), 1))\n",
    "    idx = dictionary[char]\n",
    "    vect[idx] = 1\n",
    "    return vect"
   ]
  },
  {
   "cell_type": "code",
   "execution_count": 13,
   "metadata": {},
   "outputs": [],
   "source": [
    "## Number of total characters\n",
    "\n",
    "tot_char = len(clean_text)"
   ]
  },
  {
   "cell_type": "code",
   "execution_count": 19,
   "metadata": {},
   "outputs": [],
   "source": [
    "##Prepare data, it may take some time\n",
    "\n",
    "X = []\n",
    "y = []\n",
    "n_step = 25 ## Number of steps for the LSTM layer to use during training\n",
    "\n",
    "for i in range(tot_char - n_step - 1):\n",
    "    chars = clean_text[i : i + n_step]\n",
    "    vects = [charToOneHot(char, dictionary) for char in chars]\n",
    "    X.append(vects)\n",
    "    \n",
    "for i in range(1, tot_char - n_step ):\n",
    "    chars = clean_text[i : i + n_step ]\n",
    "    vects = [charToOneHot(char, dictionary) for char in chars]\n",
    "    \n",
    "    y.append(vects)\n",
    "    \n",
    "X = np.array(X)\n",
    "y = np.array(y)\n",
    "\n",
    "X = X.reshape(X.shape[0], X.shape[1], X.shape[2])\n",
    "y = y.reshape(y.shape[0], y.shape[1] * y.shape[2])"
   ]
  },
  {
   "cell_type": "code",
   "execution_count": 47,
   "metadata": {},
   "outputs": [],
   "source": [
    "##Build the neural network model\n",
    "\n",
    "model = Sequential()\n",
    "\n",
    "\n",
    "model.add(LSTM(256, input_shape = (n_step, dict_size), return_sequences = True ))\n",
    "model.add(LSTM(256, input_shape = (n_step, dict_size), return_sequences = True ))\n",
    "\n",
    "\n",
    "model.add(TimeDistributed(Dense(dict_size)))\n",
    "model.add(TimeDistributed(Softmax()))\n",
    "\n",
    "model.add(Flatten())"
   ]
  },
  {
   "cell_type": "code",
   "execution_count": 36,
   "metadata": {},
   "outputs": [
    {
     "name": "stdout",
     "output_type": "stream",
     "text": [
      "Model: \"sequential_3\"\n",
      "_________________________________________________________________\n",
      "Layer (type)                 Output Shape              Param #   \n",
      "=================================================================\n",
      "lstm_5 (LSTM)                (None, 25, 256)           305152    \n",
      "_________________________________________________________________\n",
      "lstm_6 (LSTM)                (None, 25, 256)           525312    \n",
      "_________________________________________________________________\n",
      "time_distributed_6 (TimeDist (None, 25, 41)            10537     \n",
      "_________________________________________________________________\n",
      "time_distributed_7 (TimeDist (None, 25, 41)            0         \n",
      "_________________________________________________________________\n",
      "flatten_3 (Flatten)          (None, 1025)              0         \n",
      "=================================================================\n",
      "Total params: 841,001\n",
      "Trainable params: 841,001\n",
      "Non-trainable params: 0\n",
      "_________________________________________________________________\n"
     ]
    }
   ],
   "source": [
    "model.summary()"
   ]
  },
  {
   "cell_type": "code",
   "execution_count": 50,
   "metadata": {},
   "outputs": [],
   "source": [
    "## Compile the model\n",
    "\n",
    "model.compile(optimizer = tf.keras.optimizers.SGD(learning_rate = 0.01), loss='categorical_crossentropy')"
   ]
  },
  {
   "cell_type": "code",
   "execution_count": null,
   "metadata": {
    "scrolled": true
   },
   "outputs": [],
   "source": [
    "n_epochs = 150\n",
    "\n",
    "temperature = 0.8 ## The higher the temperature, the less conservative the predictions\n",
    "\n",
    "for epoch in range(n_epochs):\n",
    "    print(\"Epoch: \", i + 1,\"/\",n_epochs)\n",
    "    print(\"--------------------------------------\")\n",
    "    model.fit(X, y,  batch_size = 128, epochs = 1)\n",
    "    \n",
    "    ##We test what the networks generates\n",
    "    \n",
    "    word = 'i' * 25\n",
    "    tot = \"\"\n",
    "    for i in range(140):\n",
    "        vects = np.array([[charToOneHot(char, dictionary) for char in word]])\n",
    "        vects = vects.reshape(1, n_step, dict_size)\n",
    "        y_preds = model.predict(vects)\n",
    "        probs = y_preds.T[(n_step - 1) * dict_size: ]\n",
    "        probs = np.array(probs) ** (1/temperature)\n",
    "        sum_norm = np.sum(probs) \n",
    "        idx = np.random.choice(range(dict_size), p = np.squeeze(probs/sum_norm))\n",
    "        new_char = idx_to_char[idx]\n",
    "        tot = tot + new_char\n",
    "        word = word[1:] + new_char\n",
    "    model.save_weights(\"weights/rnn_weights-epoch-\" + str(epoch) + \".h5\")\n",
    "    print(tot)"
   ]
  },
  {
   "cell_type": "code",
   "execution_count": 49,
   "metadata": {},
   "outputs": [],
   "source": []
  },
  {
   "cell_type": "code",
   "execution_count": null,
   "metadata": {},
   "outputs": [],
   "source": [
    "word = 'i' * 25\n",
    "tot = \"\"\n",
    "new_char= ''\n",
    "temperature = 0.4\n",
    "n_step = 25\n",
    "\n",
    "while (new_char != \".\"):\n",
    "        vects = np.array([[charToOneHot(char, dictionary) for char in word]])\n",
    "        vects = vects.reshape(1, n_step, dict_size)\n",
    "        y_preds = model.predict(vects)\n",
    "        probs = y_preds.T[(n_step - 1) * dict_size: ]\n",
    "        probs = np.array(probs) ** (1/temperature)\n",
    "        sum_norm = np.sum(probs) \n",
    "        idx = np.random.choice(range(dict_size), p = np.squeeze(probs/sum_norm))\n",
    "        new_char = idx_to_char[idx]\n",
    "        tot = tot + new_char\n",
    "        print(tot)\n",
    "        word = word[1:] + new_char\n",
    "string_to_print = []\n",
    "for token in tot.split():\n",
    "    string_to_print.append(token)\n",
    "    if (np.random.rand() < 0.25):\n",
    "        string_to_print.append(\"\\n\")\n",
    "output = \" \".join(string_to_print[1:])\n",
    "output = output[:-1]\n",
    "print(output)"
   ]
  }
 ],
 "metadata": {
  "kernelspec": {
   "display_name": "Python 3",
   "language": "python",
   "name": "python3"
  },
  "language_info": {
   "codemirror_mode": {
    "name": "ipython",
    "version": 3
   },
   "file_extension": ".py",
   "mimetype": "text/x-python",
   "name": "python",
   "nbconvert_exporter": "python",
   "pygments_lexer": "ipython3",
   "version": "3.7.6"
  }
 },
 "nbformat": 4,
 "nbformat_minor": 4
}
